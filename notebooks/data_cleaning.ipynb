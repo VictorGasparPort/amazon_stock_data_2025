{
 "cells": [
  {
   "cell_type": "markdown",
   "metadata": {},
   "source": [
    "# Tratamento"
   ]
  },
  {
   "cell_type": "markdown",
   "metadata": {},
   "source": [
    "### Importações/ Carregamento dados"
   ]
  },
  {
   "cell_type": "code",
   "execution_count": 12,
   "metadata": {},
   "outputs": [
    {
     "data": {
      "text/html": [
       "<div>\n",
       "<style scoped>\n",
       "    .dataframe tbody tr th:only-of-type {\n",
       "        vertical-align: middle;\n",
       "    }\n",
       "\n",
       "    .dataframe tbody tr th {\n",
       "        vertical-align: top;\n",
       "    }\n",
       "\n",
       "    .dataframe thead th {\n",
       "        text-align: right;\n",
       "    }\n",
       "</style>\n",
       "<table border=\"1\" class=\"dataframe\">\n",
       "  <thead>\n",
       "    <tr style=\"text-align: right;\">\n",
       "      <th></th>\n",
       "      <th>date</th>\n",
       "      <th>open</th>\n",
       "      <th>high</th>\n",
       "      <th>low</th>\n",
       "      <th>close</th>\n",
       "      <th>adj_close</th>\n",
       "      <th>volume</th>\n",
       "    </tr>\n",
       "  </thead>\n",
       "  <tbody>\n",
       "    <tr>\n",
       "      <th>0</th>\n",
       "      <td>1997-05-15 04:00:00+00:00</td>\n",
       "      <td>0.121875</td>\n",
       "      <td>0.125000</td>\n",
       "      <td>0.096354</td>\n",
       "      <td>0.097917</td>\n",
       "      <td>0.097917</td>\n",
       "      <td>1443120000</td>\n",
       "    </tr>\n",
       "    <tr>\n",
       "      <th>1</th>\n",
       "      <td>1997-05-16 04:00:00+00:00</td>\n",
       "      <td>0.098438</td>\n",
       "      <td>0.098958</td>\n",
       "      <td>0.085417</td>\n",
       "      <td>0.086458</td>\n",
       "      <td>0.086458</td>\n",
       "      <td>294000000</td>\n",
       "    </tr>\n",
       "    <tr>\n",
       "      <th>2</th>\n",
       "      <td>1997-05-19 04:00:00+00:00</td>\n",
       "      <td>0.088021</td>\n",
       "      <td>0.088542</td>\n",
       "      <td>0.081250</td>\n",
       "      <td>0.085417</td>\n",
       "      <td>0.085417</td>\n",
       "      <td>122136000</td>\n",
       "    </tr>\n",
       "    <tr>\n",
       "      <th>3</th>\n",
       "      <td>1997-05-20 04:00:00+00:00</td>\n",
       "      <td>0.086458</td>\n",
       "      <td>0.087500</td>\n",
       "      <td>0.081771</td>\n",
       "      <td>0.081771</td>\n",
       "      <td>0.081771</td>\n",
       "      <td>109344000</td>\n",
       "    </tr>\n",
       "    <tr>\n",
       "      <th>4</th>\n",
       "      <td>1997-05-21 04:00:00+00:00</td>\n",
       "      <td>0.081771</td>\n",
       "      <td>0.082292</td>\n",
       "      <td>0.068750</td>\n",
       "      <td>0.071354</td>\n",
       "      <td>0.071354</td>\n",
       "      <td>377064000</td>\n",
       "    </tr>\n",
       "  </tbody>\n",
       "</table>\n",
       "</div>"
      ],
      "text/plain": [
       "                       date      open      high       low     close  \\\n",
       "0 1997-05-15 04:00:00+00:00  0.121875  0.125000  0.096354  0.097917   \n",
       "1 1997-05-16 04:00:00+00:00  0.098438  0.098958  0.085417  0.086458   \n",
       "2 1997-05-19 04:00:00+00:00  0.088021  0.088542  0.081250  0.085417   \n",
       "3 1997-05-20 04:00:00+00:00  0.086458  0.087500  0.081771  0.081771   \n",
       "4 1997-05-21 04:00:00+00:00  0.081771  0.082292  0.068750  0.071354   \n",
       "\n",
       "   adj_close      volume  \n",
       "0   0.097917  1443120000  \n",
       "1   0.086458   294000000  \n",
       "2   0.085417   122136000  \n",
       "3   0.081771   109344000  \n",
       "4   0.071354   377064000  "
      ]
     },
     "execution_count": 12,
     "metadata": {},
     "output_type": "execute_result"
    }
   ],
   "source": [
    "# Importações necessárias\n",
    "import pandas as pd\n",
    "\n",
    "# Função para carregar os dados\n",
    "def carregar_dados(caminho_arquivo, coluna_data=None):\n",
    "    \"\"\"\n",
    "    Carrega um arquivo CSV com dados.\n",
    "    \n",
    "    Parâmetros:\n",
    "    - caminho_arquivo (str): Caminho do arquivo CSV.\n",
    "    - coluna_data (str, opcional): Nome da coluna de datas para converter para datetime.\n",
    "    \n",
    "    Retorna:\n",
    "    - pandas.DataFrame: DataFrame com os dados carregados.\n",
    "    \"\"\"\n",
    "    # Carrega o CSV\n",
    "    dados = pd.read_csv(caminho_arquivo)\n",
    "    \n",
    "    # Converte a coluna de datas para datetime com timezone, se especificada\n",
    "    if coluna_data:\n",
    "        dados[coluna_data] = pd.to_datetime(dados[coluna_data], utc=True)\n",
    "    \n",
    "    return dados\n",
    "\n",
    "# Exemplo de uso da função com coluna de datas 'date'\n",
    "caminho_arquivo = '../data/raw/AMZN_1997-05-15_2025-02-21.csv'\n",
    "dados = carregar_dados(caminho_arquivo, coluna_data='date')\n",
    "\n",
    "# Exibir as primeiras linhas do DataFrame\n",
    "dados.head()"
   ]
  },
  {
   "cell_type": "markdown",
   "metadata": {},
   "source": [
    "### Tamanho da Base"
   ]
  },
  {
   "cell_type": "code",
   "execution_count": 13,
   "metadata": {},
   "outputs": [
    {
     "data": {
      "text/plain": [
       "{'Número de Linhas': 6986, 'Número de Colunas': 7}"
      ]
     },
     "execution_count": 13,
     "metadata": {},
     "output_type": "execute_result"
    }
   ],
   "source": [
    "def verificar_tamanho_base(df):\n",
    "    \"\"\"\n",
    "    Verifica o tamanho da base de dados em termos de número de linhas e colunas.\n",
    "    \n",
    "    Parâmetros:\n",
    "    - df (pandas.DataFrame): DataFrame a ser verificado.\n",
    "    \n",
    "    Retorna:\n",
    "    - dict: Dicionário com o número de linhas e colunas.\n",
    "    \"\"\"\n",
    "    tamanho = {\n",
    "        'Número de Linhas': df.shape[0],\n",
    "        'Número de Colunas': df.shape[1]\n",
    "    }\n",
    "    \n",
    "    return tamanho\n",
    "\n",
    "# Verificar o tamanho da base de dados\n",
    "tamanho_base = verificar_tamanho_base(dados)\n",
    "tamanho_base"
   ]
  },
  {
   "cell_type": "markdown",
   "metadata": {},
   "source": [
    "### Verificação dos dados"
   ]
  },
  {
   "cell_type": "code",
   "execution_count": 14,
   "metadata": {},
   "outputs": [
    {
     "data": {
      "text/html": [
       "<div>\n",
       "<style scoped>\n",
       "    .dataframe tbody tr th:only-of-type {\n",
       "        vertical-align: middle;\n",
       "    }\n",
       "\n",
       "    .dataframe tbody tr th {\n",
       "        vertical-align: top;\n",
       "    }\n",
       "\n",
       "    .dataframe thead th {\n",
       "        text-align: right;\n",
       "    }\n",
       "</style>\n",
       "<table border=\"1\" class=\"dataframe\">\n",
       "  <thead>\n",
       "    <tr style=\"text-align: right;\">\n",
       "      <th></th>\n",
       "      <th>Coluna</th>\n",
       "      <th>Tipo de Dado</th>\n",
       "    </tr>\n",
       "  </thead>\n",
       "  <tbody>\n",
       "    <tr>\n",
       "      <th>0</th>\n",
       "      <td>date</td>\n",
       "      <td>datetime64[ns, UTC]</td>\n",
       "    </tr>\n",
       "    <tr>\n",
       "      <th>1</th>\n",
       "      <td>open</td>\n",
       "      <td>float64</td>\n",
       "    </tr>\n",
       "    <tr>\n",
       "      <th>2</th>\n",
       "      <td>high</td>\n",
       "      <td>float64</td>\n",
       "    </tr>\n",
       "    <tr>\n",
       "      <th>3</th>\n",
       "      <td>low</td>\n",
       "      <td>float64</td>\n",
       "    </tr>\n",
       "    <tr>\n",
       "      <th>4</th>\n",
       "      <td>close</td>\n",
       "      <td>float64</td>\n",
       "    </tr>\n",
       "    <tr>\n",
       "      <th>5</th>\n",
       "      <td>adj_close</td>\n",
       "      <td>float64</td>\n",
       "    </tr>\n",
       "    <tr>\n",
       "      <th>6</th>\n",
       "      <td>volume</td>\n",
       "      <td>int64</td>\n",
       "    </tr>\n",
       "  </tbody>\n",
       "</table>\n",
       "</div>"
      ],
      "text/plain": [
       "      Coluna         Tipo de Dado\n",
       "0       date  datetime64[ns, UTC]\n",
       "1       open              float64\n",
       "2       high              float64\n",
       "3        low              float64\n",
       "4      close              float64\n",
       "5  adj_close              float64\n",
       "6     volume                int64"
      ]
     },
     "execution_count": 14,
     "metadata": {},
     "output_type": "execute_result"
    }
   ],
   "source": [
    "# Função para verificar o tipo dos dados/colunas\n",
    "def verificar_tipo_dados(df):\n",
    "    \"\"\"\n",
    "    Verifica o tipo dos dados/colunas de um DataFrame.\n",
    "    \n",
    "    Parâmetros:\n",
    "    - df (pandas.DataFrame): DataFrame a ser verificado.\n",
    "    \n",
    "    Retorna:\n",
    "    - pandas.DataFrame: DataFrame com os nomes das colunas e seus respectivos tipos de dados.\n",
    "    \"\"\"\n",
    "    # Obter os tipos de dados das colunas\n",
    "    tipos_dados = df.dtypes\n",
    "    \n",
    "    # Criar um DataFrame com os resultados\n",
    "    tabela_tipos = pd.DataFrame({\n",
    "        'Coluna': tipos_dados.index,\n",
    "        'Tipo de Dado': tipos_dados.values\n",
    "    })\n",
    "    \n",
    "    return tabela_tipos\n",
    "\n",
    "# Verificar o tipo dos dados/colunas\n",
    "tabela_tipos = verificar_tipo_dados(dados)\n",
    "tabela_tipos"
   ]
  },
  {
   "cell_type": "markdown",
   "metadata": {},
   "source": [
    "### Verificação Valores Nulos"
   ]
  },
  {
   "cell_type": "code",
   "execution_count": 15,
   "metadata": {},
   "outputs": [
    {
     "data": {
      "text/html": [
       "<div>\n",
       "<style scoped>\n",
       "    .dataframe tbody tr th:only-of-type {\n",
       "        vertical-align: middle;\n",
       "    }\n",
       "\n",
       "    .dataframe tbody tr th {\n",
       "        vertical-align: top;\n",
       "    }\n",
       "\n",
       "    .dataframe thead th {\n",
       "        text-align: right;\n",
       "    }\n",
       "</style>\n",
       "<table border=\"1\" class=\"dataframe\">\n",
       "  <thead>\n",
       "    <tr style=\"text-align: right;\">\n",
       "      <th></th>\n",
       "      <th>Quantidade de Valores Ausentes</th>\n",
       "      <th>Percentual de Valores Ausentes (%)</th>\n",
       "    </tr>\n",
       "  </thead>\n",
       "  <tbody>\n",
       "  </tbody>\n",
       "</table>\n",
       "</div>"
      ],
      "text/plain": [
       "Empty DataFrame\n",
       "Columns: [Quantidade de Valores Ausentes, Percentual de Valores Ausentes (%)]\n",
       "Index: []"
      ]
     },
     "execution_count": 15,
     "metadata": {},
     "output_type": "execute_result"
    }
   ],
   "source": [
    "# Função para verificar valores ausentes\n",
    "def verificar_valores_ausentes(df):\n",
    "    \"\"\"\n",
    "    Verifica a quantidade e o percentual de valores ausentes em cada coluna de um DataFrame.\n",
    "    \n",
    "    Parâmetros:\n",
    "    - df (pandas.DataFrame): DataFrame a ser verificado.\n",
    "    \n",
    "    Retorna:\n",
    "    - pandas.DataFrame: DataFrame com a quantidade e o percentual de valores ausentes por coluna.\n",
    "    \"\"\"\n",
    "    # Calcular a quantidade de valores ausentes\n",
    "    valores_ausentes = df.isnull().sum()\n",
    "    \n",
    "    # Calcular o percentual de valores ausentes\n",
    "    percentual_ausentes = (valores_ausentes / df.shape[0]) * 100\n",
    "    \n",
    "    # Criar um DataFrame com os resultados\n",
    "    tabela_ausentes = pd.DataFrame({\n",
    "        'Quantidade de Valores Ausentes': valores_ausentes,\n",
    "        'Percentual de Valores Ausentes (%)': percentual_ausentes\n",
    "    })\n",
    "    \n",
    "    # Ordenar o DataFrame pelo percentual de valores ausentes em ordem decrescente\n",
    "    tabela_ausentes = tabela_ausentes[tabela_ausentes['Quantidade de Valores Ausentes'] > 0]\n",
    "    tabela_ausentes = tabela_ausentes.sort_values(by='Percentual de Valores Ausentes (%)', ascending=False)\n",
    "    \n",
    "    return tabela_ausentes\n",
    "\n",
    "# Verificar valores ausentes\n",
    "tabela_ausentes = verificar_valores_ausentes(dados)\n",
    "tabela_ausentes"
   ]
  },
  {
   "cell_type": "markdown",
   "metadata": {},
   "source": [
    "### Valores duplicados"
   ]
  },
  {
   "cell_type": "code",
   "execution_count": 16,
   "metadata": {},
   "outputs": [
    {
     "data": {
      "text/plain": [
       "'Nenhum valor duplicado foi encontrado nos dados.'"
      ]
     },
     "execution_count": 16,
     "metadata": {},
     "output_type": "execute_result"
    }
   ],
   "source": [
    "def detectar_valores_duplicados(df):\n",
    "    \"\"\"''\n",
    "    Detecta valores duplicados em um DataFrame e retorna uma mensagem amigável para visualização.\n",
    "    \n",
    "    Parâmetros:\n",
    "    - df (pandas.DataFrame): DataFrame a ser verificado.\n",
    "    \n",
    "    Retorna:\n",
    "    - str ou pandas.DataFrame: Mensagem indicando a presença ou ausência de duplicatas, ou um DataFrame com os detalhes das duplicatas.\n",
    "    \"\"\"\n",
    "    # Verificar duplicatas\n",
    "    duplicatas = df[df.duplicated(keep=False)]\n",
    "    \n",
    "    if duplicatas.empty:\n",
    "        return \"Nenhum valor duplicado foi encontrado nos dados.\"\n",
    "    \n",
    "    # Detalhar duplicatas\n",
    "    detalhes_duplicatas = []\n",
    "    for index, row in duplicatas.iterrows():\n",
    "        for coluna in df.columns:\n",
    "            if df.duplicated(subset=[coluna], keep=False).iloc[index]:\n",
    "                detalhes_duplicatas.append({'Linha': index, 'Coluna': coluna, 'Valor': row[coluna]})\n",
    "    \n",
    "    return pd.DataFrame(detalhes_duplicatas)\n",
    "\n",
    "# Detectar valores duplicados\n",
    "duplicatas = detectar_valores_duplicados(dados)\n",
    "duplicatas "
   ]
  },
  {
   "cell_type": "markdown",
   "metadata": {},
   "source": [
    "### Verificação consistência dos dados"
   ]
  },
  {
   "cell_type": "code",
   "execution_count": 17,
   "metadata": {},
   "outputs": [
    {
     "data": {
      "text/plain": [
       "'Nenhuma inconsistência nos dados numéricos foi encontrada.'"
      ]
     },
     "execution_count": 17,
     "metadata": {},
     "output_type": "execute_result"
    }
   ],
   "source": [
    "# Função para verificar a padronização dos dados numéricos\n",
    "def verificar_padronizacao_numerica(df):\n",
    "    \"\"\"\n",
    "    Verifica a padronização dos dados numéricos em todas as colunas que possuam números.\n",
    "    \n",
    "    Parâmetros:\n",
    "    - df (pandas.DataFrame): DataFrame a ser verificado.\n",
    "    \n",
    "    Retorna:\n",
    "    - dict ou str: Dicionário com as colunas e os problemas encontrados ou uma mensagem indicando que não foram encontradas inconsistências.\n",
    "    \"\"\"\n",
    "    problemas = {}\n",
    "    \n",
    "    for coluna in df.select_dtypes(include=['float64', 'int64']).columns:\n",
    "        problemas_coluna = []\n",
    "        \n",
    "        # Verificar se todos os valores são numéricos\n",
    "        if not pd.api.types.is_numeric_dtype(df[coluna]):\n",
    "            problemas_coluna.append(\"Valores não numéricos encontrados\")\n",
    "        \n",
    "        # Verificar se os valores são válidos (sem caracteres inválidos)\n",
    "        if df[coluna].apply(lambda x: isinstance(x, (int, float))).sum() != len(df[coluna]):\n",
    "            problemas_coluna.append(\"Valores inválidos encontrados\")\n",
    "        \n",
    "        # Verificar se os separadores decimais estão corretos\n",
    "        if df[coluna].apply(lambda x: isinstance(x, float) and '.' not in str(x)).sum() > 0:\n",
    "            problemas_coluna.append(\"Separadores decimais incorretos\")\n",
    "        \n",
    "        if problemas_coluna:\n",
    "            problemas[coluna] = problemas_coluna\n",
    "    \n",
    "    if not problemas:\n",
    "        return \"Nenhuma inconsistência nos dados numéricos foi encontrada.\"\n",
    "    \n",
    "    return problemas\n",
    "# Verificar a padronização dos dados numéricos\n",
    "problemas_numericos = verificar_padronizacao_numerica(dados)\n",
    "problemas_numericos"
   ]
  },
  {
   "cell_type": "markdown",
   "metadata": {},
   "source": [
    "### Validação consistência lógica dos dados"
   ]
  },
  {
   "cell_type": "code",
   "execution_count": 18,
   "metadata": {},
   "outputs": [
    {
     "data": {
      "text/plain": [
       "'Nenhuma inconsistência lógica foi encontrada nos dados.'"
      ]
     },
     "execution_count": 18,
     "metadata": {},
     "output_type": "execute_result"
    }
   ],
   "source": [
    "def validar_consistencia_logica(df):\n",
    "    \"\"\"\n",
    "    Valida a consistência lógica dos dados de acordo com as regras de negócio:\n",
    "    - high ≥ low\n",
    "    - close dentro do intervalo [low, high]\n",
    "    - volume não negativo\n",
    "    \n",
    "    Parâmetros:\n",
    "    - df (pandas.DataFrame): DataFrame a ser verificado.\n",
    "    \n",
    "    Retorna:\n",
    "    - pandas.DataFrame: DataFrame com as inconsistências encontradas.\n",
    "    \"\"\"\n",
    "    inconsistencias = []\n",
    "\n",
    "    # Verificar se high < low\n",
    "    inconsistencias_high_low = df[df['high'] < df['low']]\n",
    "    for index, row in inconsistencias_high_low.iterrows():\n",
    "        inconsistencias.append({'Linha': index, 'Coluna': 'high < low', 'Valor': f\"high: {row['high']}, low: {row['low']}\"})\n",
    "\n",
    "    # Verificar se close está fora do intervalo [low, high]\n",
    "    inconsistencias_close_intervalo = df[(df['close'] < df['low']) | (df['close'] > df['high'])]\n",
    "    for index, row in inconsistencias_close_intervalo.iterrows():\n",
    "        inconsistencias.append({'Linha': index, 'Coluna': 'close fora do intervalo [low, high]', 'Valor': f\"close: {row['close']}, low: {row['low']}, high: {row['high']}\"})\n",
    "\n",
    "    # Verificar se volume é negativo\n",
    "    inconsistencias_volume_negativo = df[df['volume'] < 0]\n",
    "    for index, row in inconsistencias_volume_negativo.iterrows():\n",
    "        inconsistencias.append({'Linha': index, 'Coluna': 'volume negativo', 'Valor': row['volume']})\n",
    "\n",
    "    if not inconsistencias:\n",
    "        return \"Nenhuma inconsistência lógica foi encontrada nos dados.\"\n",
    "\n",
    "    return pd.DataFrame(inconsistencias)\n",
    "\n",
    "# Validar a consistência lógica dos dados\n",
    "inconsistencias_logicas = validar_consistencia_logica(dados)\n",
    "inconsistencias_logicas"
   ]
  },
  {
   "cell_type": "markdown",
   "metadata": {},
   "source": [
    "### Otimização"
   ]
  },
  {
   "cell_type": "code",
   "execution_count": 19,
   "metadata": {},
   "outputs": [
    {
     "data": {
      "text/plain": [
       "date         datetime64[ns, UTC]\n",
       "open                     float64\n",
       "high                     float64\n",
       "low                      float64\n",
       "close                    float64\n",
       "adj_close                float64\n",
       "volume                     int32\n",
       "dtype: object"
      ]
     },
     "execution_count": 19,
     "metadata": {},
     "output_type": "execute_result"
    }
   ],
   "source": [
    "def otimizar_memoria(df):\n",
    "    \"\"\"\n",
    "    Converte colunas para otimização da memória.\n",
    "    \n",
    "    Parâmetros:\n",
    "    - df (pandas.DataFrame): DataFrame a ser otimizado.\n",
    "    \n",
    "    Retorna:\n",
    "    - pandas.DataFrame: DataFrame otimizado.\n",
    "    \"\"\"\n",
    "    for coluna in df.select_dtypes(include=['int64']).columns:\n",
    "        df[coluna] = df[coluna].astype('int32')\n",
    "    \n",
    "    return df\n",
    "\n",
    "# Otimizar a memória do DataFrame\n",
    "dados_otimizado = otimizar_memoria(dados)\n",
    "dados_otimizado.dtypes "
   ]
  },
  {
   "cell_type": "markdown",
   "metadata": {},
   "source": [
    "### Verificar se dados seguem uma ordem cronológica"
   ]
  },
  {
   "cell_type": "code",
   "execution_count": 20,
   "metadata": {},
   "outputs": [
    {
     "data": {
      "text/plain": [
       "True"
      ]
     },
     "execution_count": 20,
     "metadata": {},
     "output_type": "execute_result"
    }
   ],
   "source": [
    "def verificar_ordem_cronologica(df, coluna_data):\n",
    "    \"\"\"\n",
    "    Verifica se as datas em uma coluna de um DataFrame estão em ordem cronológica.\n",
    "    \n",
    "    Parâmetros:\n",
    "    - df (pandas.DataFrame): DataFrame a ser verificado.\n",
    "    - coluna_data (str): Nome da coluna de datas.\n",
    "    \n",
    "    Retorna:\n",
    "    - bool: True se as datas estiverem em ordem cronológica, False caso contrário.\n",
    "    \"\"\"\n",
    "    return df[coluna_data].is_monotonic_increasing\n",
    "\n",
    "# Verificar se a coluna 'date' está em ordem cronológica\n",
    "ordem_cronologica = verificar_ordem_cronologica(dados, 'date')\n",
    "ordem_cronologica"
   ]
  },
  {
   "cell_type": "markdown",
   "metadata": {},
   "source": [
    "## Formatação - Moeda US$"
   ]
  },
  {
   "cell_type": "code",
   "execution_count": 21,
   "metadata": {},
   "outputs": [
    {
     "name": "stdout",
     "output_type": "stream",
     "text": [
      "As colunas ['open', 'high', 'low', 'close', 'adj_close'] foram arredondadas para 2 casas decimais.\n",
      "\n",
      "As 10 primeiras linhas do DataFrame arredondado são:\n",
      "                       date  open  high   low  close  adj_close      volume\n",
      "0 1997-05-15 04:00:00+00:00  0.12  0.12  0.10   0.10       0.10  1443120000\n",
      "1 1997-05-16 04:00:00+00:00  0.10  0.10  0.09   0.09       0.09   294000000\n",
      "2 1997-05-19 04:00:00+00:00  0.09  0.09  0.08   0.09       0.09   122136000\n",
      "3 1997-05-20 04:00:00+00:00  0.09  0.09  0.08   0.08       0.08   109344000\n",
      "4 1997-05-21 04:00:00+00:00  0.08  0.08  0.07   0.07       0.07   377064000\n",
      "5 1997-05-22 04:00:00+00:00  0.07  0.07  0.07   0.07       0.07   235536000\n",
      "6 1997-05-23 04:00:00+00:00  0.07  0.08  0.07   0.08       0.08   318744000\n",
      "7 1997-05-27 04:00:00+00:00  0.08  0.08  0.07   0.08       0.08   173952000\n",
      "8 1997-05-28 04:00:00+00:00  0.08  0.08  0.08   0.08       0.08    91488000\n",
      "9 1997-05-29 04:00:00+00:00  0.08  0.08  0.07   0.08       0.08    69456000\n"
     ]
    }
   ],
   "source": [
    "def arredondar_colunas(df, colunas, casas_decimais=2):\n",
    "    \"\"\"\n",
    "    Arredonda os valores das colunas especificadas para o número de casas decimais fornecido.\n",
    "\n",
    "    Parâmetros:\n",
    "    - df (pandas.DataFrame): DataFrame contendo os dados originais.\n",
    "    - colunas (list): Lista de colunas a serem arredondadas.\n",
    "    - casas_decimais (int): Número de casas decimais para arredondamento (padrão: 2).\n",
    "\n",
    "    Retorna:\n",
    "    - pandas.DataFrame: DataFrame com as colunas arredondadas.\n",
    "    \"\"\"\n",
    "    # Verificar se as colunas existem no DataFrame\n",
    "    colunas_invalidas = [col for col in colunas if col not in df.columns]\n",
    "    if colunas_invalidas:\n",
    "        raise ValueError(f\"As seguintes colunas não existem no DataFrame: {colunas_invalidas}\")\n",
    "\n",
    "    # Criar uma cópia do DataFrame para evitar alterações no original\n",
    "    df_arredondado = df.copy()\n",
    "\n",
    "    # Arredondar as colunas especificadas\n",
    "    for coluna in colunas:\n",
    "        df_arredondado[coluna] = df_arredondado[coluna].round(casas_decimais)\n",
    "\n",
    "    # Gerar uma saída amigável\n",
    "    print(f\"As colunas {colunas} foram arredondadas para {casas_decimais} casas decimais.\")\n",
    "    print(\"\\nAs 10 primeiras linhas do DataFrame arredondado são:\")\n",
    "    print(df_arredondado.head(10))\n",
    "\n",
    "    # Retornar o DataFrame arredondado\n",
    "    return df_arredondado\n",
    "\n",
    "# Arredondar as colunas relacionadas à moeda para 2 casas decimais\n",
    "# Ensure that the correct variables are used\n",
    "dados = arredondar_colunas(dados, colunas_para_ajustar, casas_decimais=2)\n"
   ]
  },
  {
   "cell_type": "markdown",
   "metadata": {},
   "source": [
    "## Carga dos dados\n"
   ]
  },
  {
   "cell_type": "code",
   "execution_count": 22,
   "metadata": {},
   "outputs": [
    {
     "name": "stdout",
     "output_type": "stream",
     "text": [
      "Tamanho da base de dados: {'Número de Linhas': 6986, 'Número de Colunas': 7}\n",
      "Tipos de dados das colunas:\n",
      "       Coluna         Tipo de Dado\n",
      "0       date  datetime64[ns, UTC]\n",
      "1       open              float64\n",
      "2       high              float64\n",
      "3        low              float64\n",
      "4      close              float64\n",
      "5  adj_close              float64\n",
      "6     volume                int32\n",
      "Valores ausentes:\n",
      " Empty DataFrame\n",
      "Columns: [Quantidade de Valores Ausentes, Percentual de Valores Ausentes (%)]\n",
      "Index: []\n",
      "Valores duplicados:\n",
      " Nenhum valor duplicado foi encontrado nos dados.\n",
      "Problemas nos dados numéricos:\n",
      " Nenhuma inconsistência nos dados numéricos foi encontrada.\n",
      "Inconsistências lógicas:\n",
      " Nenhuma inconsistência lógica foi encontrada nos dados.\n",
      "Tipos de dados após otimização:\n",
      " date         datetime64[ns, UTC]\n",
      "open                     float64\n",
      "high                     float64\n",
      "low                      float64\n",
      "close                    float64\n",
      "adj_close                float64\n",
      "volume                     int32\n",
      "dtype: object\n",
      "Ordem cronológica: True\n",
      "Dados atualizados salvos em: ../data/processed/AMZN_1997-05-15_2025-02-21_atualizado.csv\n"
     ]
    },
    {
     "data": {
      "text/html": [
       "<div>\n",
       "<style scoped>\n",
       "    .dataframe tbody tr th:only-of-type {\n",
       "        vertical-align: middle;\n",
       "    }\n",
       "\n",
       "    .dataframe tbody tr th {\n",
       "        vertical-align: top;\n",
       "    }\n",
       "\n",
       "    .dataframe thead th {\n",
       "        text-align: right;\n",
       "    }\n",
       "</style>\n",
       "<table border=\"1\" class=\"dataframe\">\n",
       "  <thead>\n",
       "    <tr style=\"text-align: right;\">\n",
       "      <th></th>\n",
       "      <th>date</th>\n",
       "      <th>open</th>\n",
       "      <th>high</th>\n",
       "      <th>low</th>\n",
       "      <th>close</th>\n",
       "      <th>adj_close</th>\n",
       "      <th>volume</th>\n",
       "    </tr>\n",
       "  </thead>\n",
       "  <tbody>\n",
       "    <tr>\n",
       "      <th>0</th>\n",
       "      <td>1997-05-15 04:00:00+00:00</td>\n",
       "      <td>0.12</td>\n",
       "      <td>0.12</td>\n",
       "      <td>0.10</td>\n",
       "      <td>0.10</td>\n",
       "      <td>0.10</td>\n",
       "      <td>1443120000</td>\n",
       "    </tr>\n",
       "    <tr>\n",
       "      <th>1</th>\n",
       "      <td>1997-05-16 04:00:00+00:00</td>\n",
       "      <td>0.10</td>\n",
       "      <td>0.10</td>\n",
       "      <td>0.09</td>\n",
       "      <td>0.09</td>\n",
       "      <td>0.09</td>\n",
       "      <td>294000000</td>\n",
       "    </tr>\n",
       "    <tr>\n",
       "      <th>2</th>\n",
       "      <td>1997-05-19 04:00:00+00:00</td>\n",
       "      <td>0.09</td>\n",
       "      <td>0.09</td>\n",
       "      <td>0.08</td>\n",
       "      <td>0.09</td>\n",
       "      <td>0.09</td>\n",
       "      <td>122136000</td>\n",
       "    </tr>\n",
       "    <tr>\n",
       "      <th>3</th>\n",
       "      <td>1997-05-20 04:00:00+00:00</td>\n",
       "      <td>0.09</td>\n",
       "      <td>0.09</td>\n",
       "      <td>0.08</td>\n",
       "      <td>0.08</td>\n",
       "      <td>0.08</td>\n",
       "      <td>109344000</td>\n",
       "    </tr>\n",
       "    <tr>\n",
       "      <th>4</th>\n",
       "      <td>1997-05-21 04:00:00+00:00</td>\n",
       "      <td>0.08</td>\n",
       "      <td>0.08</td>\n",
       "      <td>0.07</td>\n",
       "      <td>0.07</td>\n",
       "      <td>0.07</td>\n",
       "      <td>377064000</td>\n",
       "    </tr>\n",
       "  </tbody>\n",
       "</table>\n",
       "</div>"
      ],
      "text/plain": [
       "                       date  open  high   low  close  adj_close      volume\n",
       "0 1997-05-15 04:00:00+00:00  0.12  0.12  0.10   0.10       0.10  1443120000\n",
       "1 1997-05-16 04:00:00+00:00  0.10  0.10  0.09   0.09       0.09   294000000\n",
       "2 1997-05-19 04:00:00+00:00  0.09  0.09  0.08   0.09       0.09   122136000\n",
       "3 1997-05-20 04:00:00+00:00  0.09  0.09  0.08   0.08       0.08   109344000\n",
       "4 1997-05-21 04:00:00+00:00  0.08  0.08  0.07   0.07       0.07   377064000"
      ]
     },
     "execution_count": 22,
     "metadata": {},
     "output_type": "execute_result"
    }
   ],
   "source": [
    "def carregar_dados_atualizados(df, caminho_saida):\n",
    "    \"\"\"\n",
    "    Realiza a carga dos dados da nova tabela com todas as atualizações realizadas e salva em um novo arquivo CSV.\n",
    "    \n",
    "    Parâmetros:\n",
    "    - df (pandas.DataFrame): DataFrame original.\n",
    "    - caminho_saida (str): Caminho do arquivo CSV de saída.\n",
    "    \n",
    "    Retorna:\n",
    "    - pandas.DataFrame: DataFrame atualizado.\n",
    "    \"\"\"\n",
    "    # Verificar o tamanho da base de dados\n",
    "    tamanho_base = verificar_tamanho_base(df)\n",
    "    print(\"Tamanho da base de dados:\", tamanho_base)\n",
    "    \n",
    "    # Verificar o tipo dos dados/colunas\n",
    "    tabela_tipos = verificar_tipo_dados(df)\n",
    "    print(\"Tipos de dados das colunas:\\n\", tabela_tipos)\n",
    "    \n",
    "    # Verificar valores ausentes\n",
    "    tabela_ausentes = verificar_valores_ausentes(df)\n",
    "    print(\"Valores ausentes:\\n\", tabela_ausentes)\n",
    "    \n",
    "    # Detectar valores duplicados\n",
    "    duplicatas = detectar_valores_duplicados(df)\n",
    "    print(\"Valores duplicados:\\n\", duplicatas)\n",
    "    \n",
    "    # Verificar a padronização dos dados numéricos\n",
    "    problemas_numericos = verificar_padronizacao_numerica(df)\n",
    "    print(\"Problemas nos dados numéricos:\\n\", problemas_numericos)\n",
    "    \n",
    "    # Validar a consistência lógica dos dados\n",
    "    inconsistencias_logicas = validar_consistencia_logica(df)\n",
    "    print(\"Inconsistências lógicas:\\n\", inconsistencias_logicas)\n",
    "    \n",
    "    # Otimizar a memória do DataFrame\n",
    "    df_otimizado = otimizar_memoria(df)\n",
    "    print(\"Tipos de dados após otimização:\\n\", df_otimizado.dtypes)\n",
    "    \n",
    "    # Verificar se a coluna 'date' está em ordem cronológica\n",
    "    ordem_cronologica = verificar_ordem_cronologica(df_otimizado, 'date')\n",
    "    print(\"Ordem cronológica:\", ordem_cronologica)\n",
    "    \n",
    "    # Salvar o DataFrame atualizado em um novo arquivo CSV\n",
    "    df_otimizado.to_csv(caminho_saida, index=False)\n",
    "    print(f\"Dados atualizados salvos em: {caminho_saida}\")\n",
    "    \n",
    "    return df_otimizado\n",
    "\n",
    "# Carregar os dados atualizados e salvar em um novo arquivo CSV\n",
    "caminho_saida = '../data/processed/AMZN_1997-05-15_2025-02-21_atualizado.csv'\n",
    "dados_atualizados = carregar_dados_atualizados(dados, caminho_saida)\n",
    "dados_atualizados.head()"
   ]
  }
 ],
 "metadata": {
  "kernelspec": {
   "display_name": "Python 3",
   "language": "python",
   "name": "python3"
  },
  "language_info": {
   "codemirror_mode": {
    "name": "ipython",
    "version": 3
   },
   "file_extension": ".py",
   "mimetype": "text/x-python",
   "name": "python",
   "nbconvert_exporter": "python",
   "pygments_lexer": "ipython3",
   "version": "3.12.7"
  }
 },
 "nbformat": 4,
 "nbformat_minor": 2
}
